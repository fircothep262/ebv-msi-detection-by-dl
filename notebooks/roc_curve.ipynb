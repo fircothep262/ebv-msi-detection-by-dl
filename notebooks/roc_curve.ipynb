{
 "cells": [
  {
   "cell_type": "markdown",
   "source": [
    "# Draw ROC curve"
   ],
   "metadata": {}
  },
  {
   "cell_type": "markdown",
   "source": [
    "## EBV+MSI vs other, with data augmentation by random color change and blurring"
   ],
   "metadata": {}
  },
  {
   "cell_type": "code",
   "execution_count": null,
   "source": [
    "library(caret)\n",
    "library(openxlsx)\n",
    "library(pROC)\n",
    "\n",
    "df <- read.xlsx(\"../results/prediction/training2/tma.xlsx\", sheet = \"EBV+MSI vs other\")\n",
    "label <- ifelse((df$Molecular3 == \"EBV\") | (df$Molecular3 == \"MSI\"), 1, 0)\n",
    "df <- cbind(df, label)\n",
    "ground_truth = factor(ifelse(df$label == 1, \"EBV+MSI\", \"other\"))\n",
    "df <- cbind(df, ground_truth)\n",
    "predicted_label = factor(ifelse(df$Prediction >= 0.5, \"EBV+MSI\", \"other\"))\n",
    "df <- cbind(df, predicted_label)\n",
    "\n",
    "confusionMatrix(df$predicted_label, df$ground_truth)\n",
    "\n",
    "ROC <- roc(label ~ Prediction, data = df, ci = TRUE)\n",
    "print(ROC)\n",
    "\n",
    "plot(ROC, legacy.axes = TRUE, print.auc = TRUE)"
   ],
   "outputs": [],
   "metadata": {}
  },
  {
   "cell_type": "markdown",
   "source": [
    "## EBV vs MSI vs other, with data augmentation by random color change and blurring"
   ],
   "metadata": {}
  },
  {
   "cell_type": "code",
   "execution_count": null,
   "source": [
    "library(caret)\n",
    "library(openxlsx)\n",
    "library(pROC)\n",
    "\n",
    "df <- read.xlsx(\"../results/prediction/training2/tma.xlsx\", sheet = \"EBV vs MSI vs other\")\n",
    "label <- ifelse((df$Molecular3 == \"EBV\") | (df$Molecular3 == \"MSI\"), 1, 0)\n",
    "df <- cbind(df, label)\n",
    "ebv_msi <- 1.0 - df$other\n",
    "df <- cbind(df, ebv_msi)\n",
    "\n",
    "df2 <- data.frame(df$EBV, df$MSI, df$other)\n",
    "\n",
    "ground_truth = factor(ifelse(df$label == 1, \"EBV+MSI\", \"other\"))\n",
    "df <- cbind(df, ground_truth)\n",
    "predicted_label = apply(df2, 1, which.max)\n",
    "predicted_label = factor(ifelse((predicted_label == 1) | (predicted_label == 2),\n",
    "        \"EBV+MSI\", \"other\"))\n",
    "df <- cbind(df, predicted_label)\n",
    "\n",
    "confusionMatrix(df$predicted_label, df$ground_truth)\n",
    "\n",
    "ROC <- roc(label ~ ebv_msi, data = df, ci = TRUE)\n",
    "print(ROC)\n",
    "\n",
    "plot(ROC, legacy.axes = TRUE, print.auc = TRUE)"
   ],
   "outputs": [],
   "metadata": {}
  },
  {
   "cell_type": "markdown",
   "source": [
    "## EBV vs MSI + other, with data augmentation by random color change and blurring"
   ],
   "metadata": {}
  },
  {
   "cell_type": "code",
   "execution_count": null,
   "source": [
    "library(caret)\n",
    "library(openxlsx)\n",
    "library(pROC)\n",
    "\n",
    "df <- read.xlsx(\"../results/prediction/training2/tma.xlsx\", sheet = \"EBV vs MSI+other\")\n",
    "label <- ifelse(df$Molecular3 == \"EBV\", 1, 0)\n",
    "df <- cbind(df, label)\n",
    "ground_truth = factor(ifelse(df$label == 1, \"EBV\", \"MSI+other\"))\n",
    "df <- cbind(df, ground_truth)\n",
    "predicted_label = factor(ifelse(df$Prediction >= 0.5, \"EBV\", \"MSI+other\"))\n",
    "df <- cbind(df, predicted_label)\n",
    "\n",
    "confusionMatrix(df$predicted_label, df$ground_truth)\n",
    "ROC <- roc(label ~ Prediction, data = df, ci = TRUE)\n",
    "print(ROC)\n",
    "\n",
    "plot(ROC, legacy.axes = TRUE, print.auc = TRUE)"
   ],
   "outputs": [],
   "metadata": {}
  },
  {
   "cell_type": "markdown",
   "source": [
    "## MSI vs EBV + other, with data augmentation by random color change and blurring"
   ],
   "metadata": {}
  },
  {
   "cell_type": "code",
   "execution_count": null,
   "source": [
    "library(caret)\n",
    "library(openxlsx)\n",
    "library(pROC)\n",
    "\n",
    "df <- read.xlsx(\"../results/prediction/training2/tma.xlsx\", sheet = \"MSI vs EBV+other\")\n",
    "label <- ifelse(df$Molecular3 == \"MSI\", 1, 0)\n",
    "df <- cbind(df, label)\n",
    "ground_truth = factor(ifelse(df$label == 1, \"MSI\", \"EBV+other\"))\n",
    "df <- cbind(df, ground_truth)\n",
    "predicted_label = factor(ifelse(df$Prediction >= 0.5, \"MSI\", \"EBV+other\"))\n",
    "df <- cbind(df, predicted_label)\n",
    "\n",
    "confusionMatrix(df$predicted_label, df$ground_truth, positive=\"MSI\")\n",
    "\n",
    "ROC <- roc(label ~ Prediction, data = df, ci = TRUE)\n",
    "print(ROC)\n",
    "\n",
    "plot(ROC, legacy.axes = TRUE, print.auc = TRUE)"
   ],
   "outputs": [],
   "metadata": {}
  },
  {
   "cell_type": "markdown",
   "source": [
    "## Combination of EBV vs MSI + other and MSI vs EBV + other, with data augmentation by random color change and blurring"
   ],
   "metadata": {}
  },
  {
   "cell_type": "code",
   "execution_count": null,
   "source": [
    "library(caret)\n",
    "library(openxlsx)\n",
    "\n",
    "dfebv <- read.xlsx(\"../results/prediction/training2/tma.xlsx\", sheet = \"EBV vs MSI+other\")\n",
    "dfmsi <- read.xlsx(\"../results/prediction/training2/tma.xlsx\", sheet = \"MSI vs EBV+other\")\n",
    "id <- dfmsi$id\n",
    "Prediction_MSI <- dfmsi$Prediction\n",
    "dfmsi <- data.frame(id, Prediction_MSI)\n",
    "df <- merge(dfebv, dfmsi, by = \"id\")\n",
    "\n",
    "label <- ifelse((df$Molecular3 == \"EBV\") | (df$Molecular3 == \"MSI\"), 1, 0)\n",
    "df <- cbind(df, label)\n",
    "\n",
    "ground_truth = factor(ifelse(df$label == 1, \"EBV+MSI\", \"other\"))\n",
    "df <- cbind(df, ground_truth)\n",
    "predicted_label = factor(ifelse(df$Prediction >= 0.5 | df$Prediction_MSI >= 0.5,\n",
    "        \"EBV+MSI\", \"other\"))\n",
    "df <- cbind(df, predicted_label)\n",
    "\n",
    "confusionMatrix(df$predicted_label, df$ground_truth)"
   ],
   "outputs": [],
   "metadata": {}
  },
  {
   "cell_type": "markdown",
   "source": [
    "## EBV + MSI vs other, with data augmentation by random color change and blurring\n",
    "### TCGA cases"
   ],
   "metadata": {}
  },
  {
   "cell_type": "code",
   "execution_count": null,
   "source": [
    "library(caret)\n",
    "library(openxlsx)\n",
    "library(pROC)\n",
    "\n",
    "df <- read.xlsx(\"../results/prediction/training3/tcga.xlsx\", sheet = \"with aug no tcga\")\n",
    "label <- ifelse((df$Molecular.Subtype == \"EBV\") | (df$Molecular.Subtype == \"MSI\"), 1, 0)\n",
    "df <- cbind(df, label)\n",
    "ground_truth = factor(ifelse(df$label == 1, \"EBV+MSI\", \"other\"))\n",
    "df <- cbind(df, ground_truth)\n",
    "predicted_label = factor(ifelse(df$Prediction >= 0.5, \"EBV+MSI\", \"other\"))\n",
    "df <- cbind(df, predicted_label)\n",
    "\n",
    "confusionMatrix(df$predicted_label, df$ground_truth)\n",
    "\n",
    "ROC <- roc(label ~ Prediction, data = df, ci = TRUE)\n",
    "print(ROC)\n",
    "\n",
    "plot(ROC, legacy.axes = TRUE, print.auc = TRUE)"
   ],
   "outputs": [],
   "metadata": {}
  },
  {
   "cell_type": "markdown",
   "source": [
    "## EBV + MSI vs other, with data augmentation by random color change and blurring and a part of TCGA cases used for training"
   ],
   "metadata": {}
  },
  {
   "cell_type": "markdown",
   "source": [
    "### UTokyo cases"
   ],
   "metadata": {}
  },
  {
   "cell_type": "code",
   "execution_count": null,
   "source": [
    "library(caret)\n",
    "library(openxlsx)\n",
    "library(pROC)\n",
    "\n",
    "df <- read.xlsx(\"../results/prediction/training3/tma.xlsx\", sheet = \"with aug with tcga\")\n",
    "label <- ifelse((df$Molecular3 == \"EBV\") | (df$Molecular3 == \"MSI\"), 1, 0)\n",
    "df <- cbind(df, label)\n",
    "ground_truth = factor(ifelse(df$label == 1, \"EBV+MSI\", \"other\"))\n",
    "df <- cbind(df, ground_truth)\n",
    "predicted_label = factor(ifelse(df$Prediction >= 0.5, \"EBV+MSI\", \"other\"))\n",
    "df <- cbind(df, predicted_label)\n",
    "\n",
    "confusionMatrix(df$predicted_label, df$ground_truth)\n",
    "\n",
    "ROC <- roc(label ~ Prediction, data = df, ci = TRUE)\n",
    "print(ROC)\n",
    "\n",
    "plot(ROC, legacy.axes = TRUE, print.auc = TRUE)\n",
    "\n",
    "tiff(filename=\"../results/roc_curve/utokyo.tiff\", width=3.4, height=3.4, units=\"in\", res=500)\n",
    "plot(ROC, legacy.axes = TRUE, print.auc = TRUE, print.auc.x = 0.95)\n",
    "dev.off()"
   ],
   "outputs": [],
   "metadata": {}
  },
  {
   "cell_type": "markdown",
   "source": [
    "### TCGA cases"
   ],
   "metadata": {}
  },
  {
   "cell_type": "code",
   "execution_count": null,
   "source": [
    "library(caret)\n",
    "library(openxlsx)\n",
    "library(pROC)\n",
    "\n",
    "df <- read.xlsx(\"../results/prediction/training3/tcga.xlsx\", sheet = \"with aug with tcga\")\n",
    "label <- ifelse((df$Molecular.Subtype == \"EBV\") | (df$Molecular.Subtype == \"MSI\"), 1, 0)\n",
    "df <- cbind(df, label)\n",
    "ground_truth = factor(ifelse(df$label == 1, \"EBV+MSI\", \"other\"))\n",
    "df <- cbind(df, ground_truth)\n",
    "predicted_label = factor(ifelse(df$Prediction >= 0.5, \"EBV+MSI\", \"other\"))\n",
    "df <- cbind(df, predicted_label)\n",
    "\n",
    "confusionMatrix(df$predicted_label, df$ground_truth)\n",
    "\n",
    "ROC <- roc(label ~ Prediction, data = df, ci = TRUE)\n",
    "print(ROC)\n",
    "\n",
    "plot(ROC, legacy.axes = TRUE, print.auc = TRUE)\n",
    "\n",
    "tiff(filename=\"../results/roc_curve/tcga.tiff\", width=3.4, height=3.4, units=\"in\", res=500)\n",
    "plot(ROC, legacy.axes = TRUE, print.auc = TRUE, print.auc.x = 0.95)\n",
    "dev.off()"
   ],
   "outputs": [],
   "metadata": {}
  },
  {
   "cell_type": "markdown",
   "source": [
    "## EBV + MSI vs other, without data augmentation by random color change and blurring"
   ],
   "metadata": {}
  },
  {
   "cell_type": "markdown",
   "source": [
    "### UTokyo cases"
   ],
   "metadata": {}
  },
  {
   "cell_type": "code",
   "execution_count": null,
   "source": [
    "library(caret)\n",
    "library(openxlsx)\n",
    "library(pROC)\n",
    "\n",
    "df <- read.xlsx(\"../results/prediction/training3/tma.xlsx\", sheet = \"no aug no tcga\")\n",
    "label <- ifelse((df$Molecular3 == \"EBV\") | (df$Molecular3 == \"MSI\"), 1, 0)\n",
    "df <- cbind(df, label)\n",
    "ground_truth = factor(ifelse(df$label == 1, \"EBV+MSI\", \"other\"))\n",
    "df <- cbind(df, ground_truth)\n",
    "predicted_label = factor(ifelse(df$Prediction >= 0.5, \"EBV+MSI\", \"other\"))\n",
    "df <- cbind(df, predicted_label)\n",
    "\n",
    "confusionMatrix(df$predicted_label, df$ground_truth)\n",
    "\n",
    "ROC <- roc(label ~ Prediction, data = df, ci = TRUE)\n",
    "print(ROC)\n",
    "\n",
    "plot(ROC, legacy.axes = TRUE, print.auc = TRUE)"
   ],
   "outputs": [],
   "metadata": {}
  },
  {
   "cell_type": "markdown",
   "source": [
    "### TCGA cases"
   ],
   "metadata": {}
  },
  {
   "cell_type": "code",
   "execution_count": null,
   "source": [
    "library(caret)\n",
    "library(openxlsx)\n",
    "library(pROC)\n",
    "\n",
    "df <- read.xlsx(\"../results/prediction/training3/tcga.xlsx\", sheet = \"no aug no tcga\")\n",
    "label <- ifelse((df$Molecular.Subtype == \"EBV\") | (df$Molecular.Subtype == \"MSI\"), 1, 0)\n",
    "df <- cbind(df, label)\n",
    "ground_truth = factor(ifelse(df$label == 1, \"EBV+MSI\", \"other\"))\n",
    "df <- cbind(df, ground_truth)\n",
    "predicted_label = factor(ifelse(df$Prediction >= 0.5, \"EBV+MSI\", \"other\"))\n",
    "df <- cbind(df, predicted_label)\n",
    "\n",
    "confusionMatrix(df$predicted_label, df$ground_truth)\n",
    "\n",
    "ROC <- roc(label ~ Prediction, data = df, ci = TRUE)\n",
    "print(ROC)\n",
    "\n",
    "plot(ROC, legacy.axes = TRUE, print.auc = TRUE)"
   ],
   "outputs": [],
   "metadata": {}
  },
  {
   "cell_type": "markdown",
   "source": [
    "## EBV + MSI vs other, without data augmentation by random color change and blurring, and with a part of TCGA cases used for training"
   ],
   "metadata": {}
  },
  {
   "cell_type": "markdown",
   "source": [
    "### UTokyo cases"
   ],
   "metadata": {}
  },
  {
   "cell_type": "code",
   "execution_count": null,
   "source": [
    "library(caret)\n",
    "library(openxlsx)\n",
    "library(pROC)\n",
    "\n",
    "df <- read.xlsx(\"../results/prediction/training3/tma.xlsx\", sheet = \"no aug with tcga\")\n",
    "label <- ifelse((df$Molecular3 == \"EBV\") | (df$Molecular3 == \"MSI\"), 1, 0)\n",
    "df <- cbind(df, label)\n",
    "ground_truth = factor(ifelse(df$label == 1, \"EBV+MSI\", \"other\"))\n",
    "df <- cbind(df, ground_truth)\n",
    "predicted_label = factor(ifelse(df$Prediction >= 0.5, \"EBV+MSI\", \"other\"))\n",
    "df <- cbind(df, predicted_label)\n",
    "\n",
    "confusionMatrix(df$predicted_label, df$ground_truth)\n",
    "\n",
    "ROC <- roc(label ~ Prediction, data = df, ci = TRUE)\n",
    "print(ROC)\n",
    "\n",
    "plot(ROC, legacy.axes = TRUE, print.auc = TRUE)"
   ],
   "outputs": [],
   "metadata": {}
  },
  {
   "cell_type": "markdown",
   "source": [
    "### TCGA cases"
   ],
   "metadata": {}
  },
  {
   "cell_type": "code",
   "execution_count": null,
   "source": [
    "library(caret)\n",
    "library(openxlsx)\n",
    "library(pROC)\n",
    "\n",
    "df <- read.xlsx(\"../results/prediction/training3/tcga.xlsx\", sheet = \"no aug with tcga\")\n",
    "label <- ifelse((df$Molecular.Subtype == \"EBV\") | (df$Molecular.Subtype == \"MSI\"), 1, 0)\n",
    "df <- cbind(df, label)\n",
    "ground_truth = factor(ifelse(df$label == 1, \"EBV+MSI\", \"other\"))\n",
    "df <- cbind(df, ground_truth)\n",
    "predicted_label = factor(ifelse(df$Prediction >= 0.5, \"EBV+MSI\", \"other\"))\n",
    "df <- cbind(df, predicted_label)\n",
    "\n",
    "confusionMatrix(df$predicted_label, df$ground_truth)\n",
    "\n",
    "ROC <- roc(label ~ Prediction, data = df, ci = TRUE)\n",
    "print(ROC)\n",
    "\n",
    "plot(ROC, legacy.axes = TRUE, print.auc = TRUE)"
   ],
   "outputs": [],
   "metadata": {}
  },
  {
   "cell_type": "markdown",
   "source": [
    "## EBV vs MSI vs other, with data augmentation by random color change and blurring, and with a part of TCGA cases used for training"
   ],
   "metadata": {}
  },
  {
   "cell_type": "markdown",
   "source": [
    "### TCGA cases"
   ],
   "metadata": {}
  },
  {
   "cell_type": "code",
   "execution_count": null,
   "source": [
    "library(caret)\n",
    "library(openxlsx)\n",
    "library(pROC)\n",
    "\n",
    "df <- read.xlsx(\"../results/prediction/training4/tcga.xlsx\", sheet = \"with aug with tcga\")\n",
    "label3 <- factor(ifelse((df$Molecular.Subtype == \"EBV\") | (df$Molecular.Subtype == \"MSI\"),\n",
    "        df$Molecular.Subtype, \"other\"))\n",
    "df <- cbind(df, label3)\n",
    "df2 <- data.frame(df$EBV, df$MSI, df$other)\n",
    "predicted_label3 <- apply(df2, 1, which.max)\n",
    "predicted_label3 <- factor(ifelse(predicted_label3 == 1, \"EBV\", ifelse(predicted_label3 == 2,\n",
    "        \"MSI\", \"other\")))\n",
    "df <- cbind(df, predicted_label3)\n",
    "\n",
    "confusionMatrix(df$predicted_label3, df$label3)\n",
    "\n",
    "label <- ifelse((df$Molecular.Subtype == \"EBV\") | (df$Molecular.Subtype == \"MSI\"), 1, 0)\n",
    "df <- cbind(df, label)\n",
    "ebv_msi <- 1.0 - df$other\n",
    "df <- cbind(df, ebv_msi)\n",
    "\n",
    "ground_truth <- factor(ifelse(df$label == 1, \"EBV+MSI\", \"other\"))\n",
    "df <- cbind(df, ground_truth)\n",
    "predicted_label <- apply(df2, 1, which.max)\n",
    "predicted_label <- factor(ifelse((predicted_label == 1) | (predicted_label == 2),\n",
    "        \"EBV+MSI\", \"other\"))\n",
    "df <- cbind(df, predicted_label)\n",
    "\n",
    "confusionMatrix(df$predicted_label, df$ground_truth)\n",
    "\n",
    "ROC <- roc(label ~ ebv_msi, data = df, ci = TRUE)\n",
    "print(ROC)\n",
    "\n",
    "plot(ROC, legacy.axes = TRUE, print.auc = TRUE)"
   ],
   "outputs": [],
   "metadata": {}
  }
 ],
 "metadata": {
  "orig_nbformat": 4,
  "language_info": {
   "name": "R",
   "codemirror_mode": "r",
   "pygments_lexer": "r",
   "mimetype": "text/x-r-source",
   "file_extension": ".r",
   "version": "4.1.1"
  },
  "kernelspec": {
   "name": "ir",
   "display_name": "R",
   "language": "R"
  }
 },
 "nbformat": 4,
 "nbformat_minor": 2
}