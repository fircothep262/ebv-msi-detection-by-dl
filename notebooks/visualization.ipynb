{
 "cells": [
  {
   "cell_type": "markdown",
   "source": [
    "# Visualization of deep learning models\r\n",
    "Deep learning model:  \r\n",
    "EBV+MSI vs other, with data augmentation by changing color randomly  \r\n",
    "Used a part of TCGA cases for training"
   ],
   "metadata": {}
  },
  {
   "cell_type": "markdown",
   "source": [
    "## Generate most \"EBV+MSI\"-like image using activation maximization"
   ],
   "metadata": {}
  },
  {
   "cell_type": "code",
   "execution_count": null,
   "source": [
    "from src.visualization import activation_maximization\n",
    "\n",
    "activation_maximization(\n",
    "        model_file=r'models\\training3\\task2_with_aug_tcga_vgg16_190.h5',\n",
    "        target=0,\n",
    "        output_file=r'results\\activation_maximization\\EBV_MSI.png')"
   ],
   "outputs": [],
   "metadata": {}
  },
  {
   "cell_type": "markdown",
   "source": [
    "## Generate most \"other\"-like image using activation maximization"
   ],
   "metadata": {}
  },
  {
   "cell_type": "code",
   "execution_count": null,
   "source": [
    "from src.visualization import activation_maximization\n",
    "\n",
    "activation_maximization(\n",
    "        model_file=r'models\\training3\\task2_with_aug_tcga_vgg16_190.h5',\n",
    "        target=1,\n",
    "        output_file=r'results\\activation_maximization\\other.png')"
   ],
   "outputs": [],
   "metadata": {}
  },
  {
   "cell_type": "markdown",
   "source": [
    "## Visualize grounds for prediction by GradCam++"
   ],
   "metadata": {}
  },
  {
   "cell_type": "code",
   "execution_count": null,
   "source": [
    "from src.visualization import gradcam\n",
    "\n",
    "gradcam(\n",
    "        model_file=r'models\\training3\\task2_with_aug_tcga_vgg16_190.h5',\n",
    "        base_model='VGG16',\n",
    "        source_file=r'results\\gradcam\\source.jpg')"
   ],
   "outputs": [],
   "metadata": {}
  }
 ],
 "metadata": {
  "orig_nbformat": 4,
  "language_info": {
   "name": "python",
   "version": "3.8.10",
   "mimetype": "text/x-python",
   "codemirror_mode": {
    "name": "ipython",
    "version": 3
   },
   "pygments_lexer": "ipython3",
   "nbconvert_exporter": "python",
   "file_extension": ".py"
  },
  "kernelspec": {
   "name": "python3",
   "display_name": "Python 3.8.10 64-bit ('venv': venv)"
  },
  "interpreter": {
   "hash": "b2af6807d7e6f80af6b99b398a07edb7db22d043dac48ea45f1a934629db9cda"
  }
 },
 "nbformat": 4,
 "nbformat_minor": 2
}