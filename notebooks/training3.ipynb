{
 "cells": [
  {
   "cell_type": "markdown",
   "source": [
    "# Assess the performance of CNNs when data augmentation with random color change and blurring was added or when a part of TCGA cases was added to training data.\r\n",
    "VGG16-based model, EBV+MSI vs other.  \r\n",
    "Learning curves are available in results\\learning_curve\\training3."
   ],
   "metadata": {}
  },
  {
   "cell_type": "markdown",
   "source": [
    "## With data augmentation and without TCGA cases for training.\r\n",
    "### Patient level prediction using trained model with early stopping at 190 \"epochs\""
   ],
   "metadata": {}
  },
  {
   "cell_type": "code",
   "execution_count": null,
   "source": [
    "from src.prediction import tcga_patient_level_prediction\n",
    "\n",
    "tcga_patient_level_prediction(\n",
    "    classification_pattern=2,\n",
    "    base_model='VGG16',\n",
    "    model_file=r'models\\training2\\task2_with_aug_vgg16_190.h5',\n",
    "    tcga_test_image_dir=r'data\\patches\\tcga_test',\n",
    "    test_groups=[0, 1, 2, 3, 4]\n",
    ")"
   ],
   "outputs": [],
   "metadata": {}
  },
  {
   "cell_type": "markdown",
   "source": [
    "## With data augmentation and with TCGA cases for training."
   ],
   "metadata": {}
  },
  {
   "cell_type": "code",
   "execution_count": null,
   "source": [
    "from src.training import create_dataset, exec_training\n",
    "\n",
    "training_dataset, validation_dataset = create_dataset(\n",
    "        base_model='VGG16',\n",
    "        training_data_dir=r'data\\tfrecords\\task2_with_aug',\n",
    "        training_groups=[1, 2, 3, 4, 9],  # 9:TCGA data\n",
    "        validation_data_dir=None,\n",
    "        validation_group=-1)\n",
    "\n",
    "exec_training(\n",
    "        classification_pattern=2,\n",
    "        base_model='VGG16',\n",
    "        training_dataset=training_dataset,\n",
    "        validation_dataset=None,\n",
    "        id='task2_with_aug_tcga_vgg16_all'\n",
    "        )"
   ],
   "outputs": [],
   "metadata": {}
  },
  {
   "cell_type": "markdown",
   "source": [
    "### Patient level prediction using trained model with early stopping at 190 \"epochs\""
   ],
   "metadata": {}
  },
  {
   "cell_type": "code",
   "execution_count": null,
   "source": [
    "from src.prediction import tma_patient_level_prediction\n",
    "\n",
    "tma_patient_level_prediction(\n",
    "    classification_pattern=2,\n",
    "    base_model='VGG16',\n",
    "    model_file=r'models\\training3\\task2_with_aug_tcga_vgg16_190.h5',\n",
    "    tma_test_image_dir=r'data\\patches\\tma_test',\n",
    "    test_group=0\n",
    ")"
   ],
   "outputs": [],
   "metadata": {}
  },
  {
   "cell_type": "code",
   "execution_count": null,
   "source": [
    "from src.prediction import tcga_patient_level_prediction\r\n",
    "\r\n",
    "tcga_patient_level_prediction(\r\n",
    "    classification_pattern=2,\r\n",
    "    base_model='VGG16',\r\n",
    "    model_file=r'models\\training3\\task2_with_aug_tcga_vgg16_190.h5',\r\n",
    "    tcga_test_image_dir=r'data\\patches\\tcga_test',\r\n",
    "    test_groups=[1, 2, 3, 4]\r\n",
    ")"
   ],
   "outputs": [],
   "metadata": {}
  },
  {
   "cell_type": "markdown",
   "source": [
    "## Without data augmentation and without TCGA cases for training.\r\n",
    "### 4-fold cross validation"
   ],
   "metadata": {}
  },
  {
   "cell_type": "code",
   "execution_count": null,
   "source": [
    "from src.training import cross_validation\r\n",
    "\r\n",
    "cross_validation(\r\n",
    "        classification_pattern=2,\r\n",
    "        base_model='VGG16',\r\n",
    "        training_data_dir=r'data\\tfrecords\\task2_no_aug',\r\n",
    "        validation_data_dir=r'data\\tfrecords\\task2_no_aug',\r\n",
    "        id='task2_no_aug_vgg16'\r\n",
    "        )"
   ],
   "outputs": [],
   "metadata": {}
  },
  {
   "cell_type": "code",
   "execution_count": null,
   "source": [
    "from src.training import create_dataset, exec_training\n",
    "\n",
    "training_dataset, validation_dataset = create_dataset(\n",
    "        base_model='VGG16',\n",
    "        training_data_dir=r'data\\tfrecords\\task2_no_aug',\n",
    "        training_groups=[1, 2, 3, 4],\n",
    "        validation_data_dir=None,\n",
    "        validation_group=-1)\n",
    "\n",
    "exec_training(\n",
    "        classification_pattern=2,\n",
    "        base_model='VGG16',\n",
    "        training_dataset=training_dataset,\n",
    "        validation_dataset=None,\n",
    "        id='task2_no_aug_vgg16_all'\n",
    "        )"
   ],
   "outputs": [],
   "metadata": {}
  },
  {
   "cell_type": "markdown",
   "source": [
    "### Patient level prediction using trained model with early stopping at 99 \"epochs\""
   ],
   "metadata": {}
  },
  {
   "cell_type": "code",
   "execution_count": null,
   "source": [
    "from src.prediction import tma_patient_level_prediction\n",
    "\n",
    "tma_patient_level_prediction(\n",
    "    classification_pattern=2,\n",
    "    base_model='VGG16',\n",
    "    model_file=r'models\\training3\\task2_no_aug_vgg16_99.h5',\n",
    "    tma_test_image_dir=r'data\\patches\\tma_test',\n",
    "    test_group=0\n",
    ")"
   ],
   "outputs": [],
   "metadata": {}
  },
  {
   "cell_type": "code",
   "execution_count": null,
   "source": [
    "from src.prediction import tcga_patient_level_prediction\n",
    "\n",
    "tcga_patient_level_prediction(\n",
    "    classification_pattern=2,\n",
    "    base_model='VGG16',\n",
    "    model_file=r'models\\training3\\task2_no_aug_vgg16_99.h5',\n",
    "    tcga_test_image_dir=r'data\\patches\\tcga_test',\n",
    "    test_groups=[0, 1, 2, 3, 4]\n",
    ")"
   ],
   "outputs": [],
   "metadata": {}
  },
  {
   "cell_type": "markdown",
   "source": [
    "## Without data augmentation and with TCGA cases for training."
   ],
   "metadata": {}
  },
  {
   "cell_type": "code",
   "execution_count": null,
   "source": [
    "from src.training import create_dataset, exec_training\n",
    "\n",
    "training_dataset, validation_dataset = create_dataset(\n",
    "        base_model='VGG16',\n",
    "        training_data_dir=r'data\\tfrecords\\task2_no_aug',\n",
    "        training_groups=[1, 2, 3, 4, 9],  # 9:TCGA data\n",
    "        validation_data_dir=None,\n",
    "        validation_group=-1)\n",
    "\n",
    "exec_training(\n",
    "        classification_pattern=2,\n",
    "        base_model='VGG16',\n",
    "        training_dataset=training_dataset,\n",
    "        validation_dataset=None,\n",
    "        id='task2_no_aug_tcga_vgg16_all'\n",
    "        )"
   ],
   "outputs": [],
   "metadata": {}
  },
  {
   "cell_type": "markdown",
   "source": [
    "### Patient level prediction using trained model with early stopping at 99 \"epochs\""
   ],
   "metadata": {}
  },
  {
   "cell_type": "code",
   "execution_count": null,
   "source": [
    "from src.prediction import tma_patient_level_prediction\r\n",
    "\r\n",
    "tma_patient_level_prediction(\r\n",
    "    classification_pattern=2,\r\n",
    "    base_model='VGG16',\r\n",
    "    model_file=r'models\\training3\\task2_no_aug_tcga_vgg16_99.h5',\r\n",
    "    tma_test_image_dir=r'data\\patches\\tma_test',\r\n",
    "    test_group=0\r\n",
    ")"
   ],
   "outputs": [],
   "metadata": {}
  },
  {
   "cell_type": "code",
   "execution_count": null,
   "source": [
    "from src.prediction import tcga_patient_level_prediction\r\n",
    "\r\n",
    "tcga_patient_level_prediction(\r\n",
    "    classification_pattern=2,\r\n",
    "    base_model='VGG16',\r\n",
    "    model_file=r'models\\training3\\task2_no_aug_tcga_vgg16_99.h5',\r\n",
    "    tcga_test_image_dir=r'data\\patches\\tcga_test',\r\n",
    "    test_groups=[1, 2, 3, 4]\r\n",
    ")"
   ],
   "outputs": [],
   "metadata": {}
  }
 ],
 "metadata": {
  "orig_nbformat": 4,
  "language_info": {
   "name": "python",
   "version": "3.8.10",
   "mimetype": "text/x-python",
   "codemirror_mode": {
    "name": "ipython",
    "version": 3
   },
   "pygments_lexer": "ipython3",
   "nbconvert_exporter": "python",
   "file_extension": ".py"
  },
  "kernelspec": {
   "name": "python3",
   "display_name": "Python 3.8.10 64-bit ('venv': venv)"
  },
  "interpreter": {
   "hash": "b2af6807d7e6f80af6b99b398a07edb7db22d043dac48ea45f1a934629db9cda"
  }
 },
 "nbformat": 4,
 "nbformat_minor": 2
}