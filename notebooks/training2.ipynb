{
 "cells": [
  {
   "cell_type": "markdown",
   "source": [
    "# Compare the performance between different classification tasks.\r\n",
    "VGG16-based model, with data augmentation by random color change and blurring.  \r\n",
    "Learning curves are available in results\\learning_curve\\training2."
   ],
   "metadata": {}
  },
  {
   "cell_type": "markdown",
   "source": [
    "## EBV+MSI vs other\r\n",
    "### Train using all four groups."
   ],
   "metadata": {}
  },
  {
   "cell_type": "code",
   "execution_count": null,
   "source": [
    "from src.training import create_dataset, exec_training\n",
    "\n",
    "training_dataset, validation_dataset = create_dataset(\n",
    "        base_model='VGG16',\n",
    "        training_data_dir=r'data\\tfrecords\\task2_with_aug',\n",
    "        training_groups=[1, 2, 3, 4],\n",
    "        validation_data_dir=None,\n",
    "        validation_group=-1)\n",
    "\n",
    "exec_training(\n",
    "        classification_pattern=2,\n",
    "        base_model='VGG16',\n",
    "        training_dataset=training_dataset,\n",
    "        validation_dataset=None,\n",
    "        id='task2_with_aug_vgg16_all'\n",
    "        )"
   ],
   "outputs": [],
   "metadata": {}
  },
  {
   "cell_type": "markdown",
   "source": [
    "### Patient level prediction using trained model with early stopping at 190 \"epochs\""
   ],
   "metadata": {}
  },
  {
   "cell_type": "code",
   "execution_count": null,
   "source": [
    "from src.prediction import tma_patient_level_prediction\n",
    "\n",
    "tma_patient_level_prediction(\n",
    "    classification_pattern=2,\n",
    "    base_model='VGG16',\n",
    "    model_file=r'models\\training2\\task2_with_aug_vgg16_190.h5',\n",
    "    tma_test_image_dir=r'data\\patches\\tma_test',\n",
    "    test_group=0\n",
    ")"
   ],
   "outputs": [],
   "metadata": {}
  },
  {
   "cell_type": "markdown",
   "source": [
    "## EBV vs MSI vs other\r\n",
    "### 4-fold cross validation (to determine when to apply early stopping)"
   ],
   "metadata": {}
  },
  {
   "cell_type": "code",
   "execution_count": null,
   "source": [
    "from src.training import cross_validation\n",
    "\n",
    "cross_validation(\n",
    "        classification_pattern=1,\n",
    "        base_model='VGG16',\n",
    "        training_data_dir=r'data\\tfrecords\\task1_with_aug',\n",
    "        validation_data_dir=r'data\\tfrecords\\task1_no_aug',\n",
    "        id='task1_with_aug_vgg16'\n",
    "        )"
   ],
   "outputs": [],
   "metadata": {}
  },
  {
   "cell_type": "markdown",
   "source": [
    "### Train using all four groups."
   ],
   "metadata": {}
  },
  {
   "cell_type": "code",
   "execution_count": null,
   "source": [
    "from src.training import create_dataset, exec_training\n",
    "\n",
    "training_dataset, validation_dataset = create_dataset(\n",
    "        base_model='VGG16',\n",
    "        training_data_dir=r'data\\tfrecords\\task1_with_aug',\n",
    "        training_groups=[1, 2, 3, 4],\n",
    "        validation_data_dir=None,\n",
    "        validation_group=-1)\n",
    "\n",
    "exec_training(\n",
    "        classification_pattern=1,\n",
    "        base_model='VGG16',\n",
    "        training_dataset=training_dataset,\n",
    "        validation_dataset=None,\n",
    "        id='task1_with_aug_vgg16_all'\n",
    "        )"
   ],
   "outputs": [],
   "metadata": {}
  },
  {
   "cell_type": "markdown",
   "source": [
    "### Patient level prediction using trained model with early stopping at 188 \"epochs\""
   ],
   "metadata": {}
  },
  {
   "cell_type": "code",
   "execution_count": null,
   "source": [
    "from src.prediction import tma_patient_level_prediction\n",
    "\n",
    "tma_patient_level_prediction(\n",
    "    classification_pattern=1,\n",
    "    base_model='VGG16',\n",
    "    model_file=r'models\\training2\\task1_with_aug_vgg16_188.h5',\n",
    "    tma_test_image_dir=r'data\\patches\\tma_test',\n",
    "    test_group=0\n",
    ")"
   ],
   "outputs": [],
   "metadata": {}
  },
  {
   "cell_type": "markdown",
   "source": [
    "## EBV vs MSI+other\r\n",
    "### 4-fold cross validation (to determine when to apply early stopping)"
   ],
   "metadata": {}
  },
  {
   "cell_type": "code",
   "execution_count": null,
   "source": [
    "from src.training import cross_validation\r\n",
    "\r\n",
    "cross_validation(\r\n",
    "        classification_pattern=3,\r\n",
    "        base_model='VGG16',\r\n",
    "        training_data_dir=r'data\\tfrecords\\task3_with_aug',\r\n",
    "        validation_data_dir=r'data\\tfrecords\\task3_no_aug',\r\n",
    "        id='task3_with_aug_vgg16'\r\n",
    "        )"
   ],
   "outputs": [],
   "metadata": {}
  },
  {
   "cell_type": "markdown",
   "source": [
    "### Train using all four groups."
   ],
   "metadata": {}
  },
  {
   "cell_type": "code",
   "execution_count": null,
   "source": [
    "from src.training import create_dataset, exec_training\r\n",
    "\r\n",
    "training_dataset, validation_dataset = create_dataset(\r\n",
    "        base_model='VGG16',\r\n",
    "        training_data_dir=r'data\\tfrecords\\task3_with_aug',\r\n",
    "        training_groups=[1, 2, 3, 4],\r\n",
    "        validation_data_dir=None,\r\n",
    "        validation_group=-1)\r\n",
    "\r\n",
    "exec_training(\r\n",
    "        classification_pattern=3,\r\n",
    "        base_model='VGG16',\r\n",
    "        training_dataset=training_dataset,\r\n",
    "        validation_dataset=None,\r\n",
    "        id='task3_with_aug_vgg16_all'\r\n",
    "        )"
   ],
   "outputs": [],
   "metadata": {}
  },
  {
   "cell_type": "markdown",
   "source": [
    "### Patient level prediction using trained model with early stopping at 190 \"epochs\""
   ],
   "metadata": {}
  },
  {
   "cell_type": "code",
   "execution_count": null,
   "source": [
    "from src.prediction import tma_patient_level_prediction\r\n",
    "\r\n",
    "tma_patient_level_prediction(\r\n",
    "    classification_pattern=3,\r\n",
    "    base_model='VGG16',\r\n",
    "    model_file=r'models\\training2\\task3_with_aug_vgg16_190.h5',\r\n",
    "    tma_test_image_dir=r'data\\patches\\tma_test',\r\n",
    "    test_group=0\r\n",
    ")"
   ],
   "outputs": [],
   "metadata": {}
  },
  {
   "cell_type": "markdown",
   "source": [
    "## MSI vs EBV+other\r\n",
    "### 4-fold cross validation (to determine when to apply early stopping)"
   ],
   "metadata": {}
  },
  {
   "cell_type": "code",
   "execution_count": null,
   "source": [
    "from src.training import cross_validation\r\n",
    "\r\n",
    "cross_validation(\r\n",
    "        classification_pattern=4,\r\n",
    "        base_model='VGG16',\r\n",
    "        training_data_dir=r'data\\tfrecords\\task4_with_aug',\r\n",
    "        validation_data_dir=r'data\\tfrecords\\task4_no_aug',\r\n",
    "        id='task4_with_aug_vgg16'\r\n",
    "        )"
   ],
   "outputs": [],
   "metadata": {}
  },
  {
   "cell_type": "markdown",
   "source": [
    "### Train using all four groups."
   ],
   "metadata": {}
  },
  {
   "cell_type": "code",
   "execution_count": null,
   "source": [
    "from src.training import create_dataset, exec_training\r\n",
    "\r\n",
    "training_dataset, validation_dataset = create_dataset(\r\n",
    "        base_model='VGG16',\r\n",
    "        training_data_dir=r'data\\tfrecords\\task4_with_aug',\r\n",
    "        training_groups=[1, 2, 3, 4],\r\n",
    "        validation_data_dir=None,\r\n",
    "        validation_group=-1)\r\n",
    "\r\n",
    "exec_training(\r\n",
    "        classification_pattern=4,\r\n",
    "        base_model='VGG16',\r\n",
    "        training_dataset=training_dataset,\r\n",
    "        validation_dataset=None,\r\n",
    "        id='task4_with_aug_vgg16_all'\r\n",
    "        )"
   ],
   "outputs": [],
   "metadata": {}
  },
  {
   "cell_type": "markdown",
   "source": [
    "### Patient level prediction using trained model with early stopping at 161 \"epochs\""
   ],
   "metadata": {}
  },
  {
   "cell_type": "code",
   "execution_count": null,
   "source": [
    "from src.prediction import tma_patient_level_prediction\r\n",
    "\r\n",
    "tma_patient_level_prediction(\r\n",
    "    classification_pattern=4,\r\n",
    "    base_model='VGG16',\r\n",
    "    model_file=r'models\\training2\\task4_with_aug_vgg16_161.h5',\r\n",
    "    tma_test_image_dir=r'data\\patches\\tma_test',\r\n",
    "    test_group=0\r\n",
    ")"
   ],
   "outputs": [],
   "metadata": {}
  }
 ],
 "metadata": {
  "orig_nbformat": 4,
  "language_info": {
   "name": "python",
   "version": "3.8.10",
   "mimetype": "text/x-python",
   "codemirror_mode": {
    "name": "ipython",
    "version": 3
   },
   "pygments_lexer": "ipython3",
   "nbconvert_exporter": "python",
   "file_extension": ".py"
  },
  "kernelspec": {
   "name": "python3",
   "display_name": "Python 3.8.10 64-bit ('venv': venv)"
  },
  "interpreter": {
   "hash": "b2af6807d7e6f80af6b99b398a07edb7db22d043dac48ea45f1a934629db9cda"
  }
 },
 "nbformat": 4,
 "nbformat_minor": 2
}