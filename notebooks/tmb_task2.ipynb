{
 "cells": [
  {
   "cell_type": "markdown",
   "source": [
    "# Assess the correlation between prediction and tumor mutational burden (EBV + MSI vs other)"
   ],
   "metadata": {}
  },
  {
   "cell_type": "code",
   "execution_count": null,
   "source": [
    "library(openxlsx)\n",
    "\n",
    "df <- read.xlsx(\"../results/prediction/training3/tcga.xlsx\", sheet = \"with aug with tcga\")\n",
    "df$Molecular.Subtype <- factor(df$Molecular.Subtype)\n",
    "\n",
    "ground_truth <- factor(ifelse(df$Molecular.Subtype == \"EBV\" | df$Molecular.Subtype == \"MSI\",\n",
    "        \"EBV+MSI\", \"other\"))\n",
    "df <- cbind(df, ground_truth)\n",
    "predicted_label <- factor(ifelse(df$Prediction >= 0.5, \"EBV+MSI\", \"other\"))\n",
    "df <- cbind(df, predicted_label)\n",
    "print('*** all ***')\n",
    "summary(df)\n",
    "\n",
    "dfebvmsi <- subset(df, df$predicted_label == \"EBV+MSI\")\n",
    "dfother <- subset(df, df$predicted_label == \"other\")\n",
    "print('*** prediction: ebv+msi ***')\n",
    "summary(dfebvmsi)\n",
    "print('*** prediction: other ***')\n",
    "summary(dfother)"
   ],
   "outputs": [],
   "metadata": {}
  },
  {
   "cell_type": "markdown",
   "source": [
    "## TMB and prediction"
   ],
   "metadata": {}
  },
  {
   "cell_type": "code",
   "execution_count": null,
   "source": [
    "boxplot(dfebvmsi$Tumor.Mutational.Burden, dfother$Tumor.Mutational.Burden,\n",
    "        names = c(\"EBV+MSI\", \"other\"))"
   ],
   "outputs": [],
   "metadata": {}
  },
  {
   "cell_type": "code",
   "execution_count": null,
   "source": [
    "var.test(dfebvmsi$Tumor.Mutational.Burden, dfother$Tumor.Mutational.Burden, conf.level=0.95)"
   ],
   "outputs": [],
   "metadata": {}
  },
  {
   "cell_type": "code",
   "execution_count": null,
   "source": [
    "t.test(dfebvmsi$Tumor.Mutational.Burden, dfother$Tumor.Mutational.Burden, var.equal = FALSE)"
   ],
   "outputs": [],
   "metadata": {}
  },
  {
   "cell_type": "code",
   "execution_count": null,
   "source": [
    "dfebvmsi_truepositive <- subset(df, df$ground_truth == \"EBV+MSI\" & df$predicted_label == \"EBV+MSI\")\n",
    "dfebvmsi_falsenegative <- subset(df, df$ground_truth == \"EBV+MSI\" & df$predicted_label != \"EBV+MSI\")\n",
    "boxplot(dfebvmsi_truepositive$Tumor.Mutational.Burden,\n",
    "        dfebvmsi_falsenegative$Tumor.Mutational.Burden)"
   ],
   "outputs": [],
   "metadata": {}
  },
  {
   "cell_type": "code",
   "execution_count": null,
   "source": [
    "var.test(dfebvmsi_truepositive$Tumor.Mutational.Burden,\n",
    "        dfebvmsi_falsenegative$Tumor.Mutational.Burden, conf.level=0.95)"
   ],
   "outputs": [],
   "metadata": {}
  },
  {
   "cell_type": "code",
   "execution_count": null,
   "source": [
    "t.test(dfebvmsi_truepositive$Tumor.Mutational.Burden,\n",
    "        dfebvmsi_falsenegative$Tumor.Mutational.Burden, var.equal = TRUE)"
   ],
   "outputs": [],
   "metadata": {}
  },
  {
   "cell_type": "code",
   "execution_count": null,
   "source": [
    "dfother_truepositive <- subset(df, df$ground_truth == \"other\" & df$predicted_label == \"other\")\n",
    "dfother_falsenegative <- subset(df, df$ground_truth == \"other\" & df$predicted_label != \"other\")\n",
    "summary(dfother_truepositive)\n",
    "summary(dfother_falsenegative)\n",
    "boxplot(dfother_truepositive$Tumor.Mutational.Burden,\n",
    "        dfother_falsenegative$Tumor.Mutational.Burden)"
   ],
   "outputs": [],
   "metadata": {}
  },
  {
   "cell_type": "code",
   "execution_count": null,
   "source": [
    "var.test(dfother_truepositive$Tumor.Mutational.Burden,\n",
    "        dfother_falsenegative$Tumor.Mutational.Burden, conf.level=0.95)"
   ],
   "outputs": [],
   "metadata": {}
  },
  {
   "cell_type": "code",
   "execution_count": null,
   "source": [
    "t.test(dfother_truepositive$Tumor.Mutational.Burden,\n",
    "        dfother_falsenegative$Tumor.Mutational.Burden, var.equal = TRUE)"
   ],
   "outputs": [],
   "metadata": {}
  }
 ],
 "metadata": {
  "orig_nbformat": 4,
  "language_info": {
   "name": "R",
   "codemirror_mode": "r",
   "pygments_lexer": "r",
   "mimetype": "text/x-r-source",
   "file_extension": ".r",
   "version": "4.1.1"
  },
  "kernelspec": {
   "name": "ir",
   "display_name": "R",
   "language": "R"
  }
 },
 "nbformat": 4,
 "nbformat_minor": 2
}