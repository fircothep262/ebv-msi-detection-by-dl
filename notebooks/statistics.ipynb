{
 "cells": [
  {
   "cell_type": "markdown",
   "source": [
    "# Statistics of cohorts"
   ],
   "metadata": {}
  },
  {
   "cell_type": "code",
   "execution_count": null,
   "source": [
    "R.version"
   ],
   "outputs": [],
   "metadata": {}
  },
  {
   "cell_type": "markdown",
   "source": [
    "## UTokyo cases (all)"
   ],
   "metadata": {}
  },
  {
   "cell_type": "code",
   "execution_count": null,
   "source": [
    "library(openxlsx)\n",
    "\n",
    "dftma <- read.xlsx(\"../data/tma_wsi_data.xlsx\", sheet = \"list\")\n",
    "dftma$Molecular <- factor(dftma$Molecular)\n",
    "dftma$Molecular3 <- factor(dftma$Molecular3)\n",
    "dftma$pT <- factor(dftma$pT)\n",
    "dftma$Group <- factor(dftma$Group)\n",
    "dftma$Depth_Core1 <- factor(dftma$Depth_Core1)\n",
    "dftma$Depth_Core2 <- factor(dftma$Depth_Core2)\n",
    "\n",
    "summary(dftma)"
   ],
   "outputs": [],
   "metadata": {}
  },
  {
   "cell_type": "markdown",
   "source": [
    "### Depth of TMA core for pT2~ cases"
   ],
   "metadata": {}
  },
  {
   "cell_type": "code",
   "execution_count": null,
   "source": [
    "dftma_adv <- subset(dftma, dftma$pT != \"T1a\" & dftma$pT != \"T1b\")\n",
    "summary(dftma_adv)"
   ],
   "outputs": [],
   "metadata": {}
  },
  {
   "cell_type": "markdown",
   "source": [
    "## UTokyo cases (training)"
   ],
   "metadata": {}
  },
  {
   "cell_type": "code",
   "execution_count": null,
   "source": [
    "dftma_train <- subset(dftma, dftma$Group != 0)\n",
    "summary(dftma_train)"
   ],
   "outputs": [],
   "metadata": {}
  },
  {
   "cell_type": "markdown",
   "source": [
    "## UTokyo cases (test)"
   ],
   "metadata": {}
  },
  {
   "cell_type": "code",
   "execution_count": null,
   "source": [
    "dftma_test <- subset(dftma, dftma$Group == 0)\n",
    "summary(dftma_test)"
   ],
   "outputs": [],
   "metadata": {}
  },
  {
   "cell_type": "markdown",
   "source": [
    "## TCGA cases (all)"
   ],
   "metadata": {}
  },
  {
   "cell_type": "code",
   "execution_count": null,
   "source": [
    "library(openxlsx)\n",
    "\n",
    "dftcga <- read.xlsx(\"../data/tcga_wsi_data.xlsx\", sheet = \"list\")\n",
    "dftcga <- subset(dftcga, dftcga$Group != -1)\n",
    "dftcga$Lauren.Class <- factor(dftcga$Lauren.Class)\n",
    "dftcga$Pathologic.T <- factor(dftcga$Pathologic.T)\n",
    "dftcga$Molecular.Subtype <- factor(dftcga$Molecular.Subtype)\n",
    "dftcga$Group <- factor(dftcga$Group)\n",
    "\n",
    "summary(dftcga)"
   ],
   "outputs": [],
   "metadata": {}
  },
  {
   "cell_type": "code",
   "execution_count": null,
   "source": [
    "summary(subset(dftcga, dftcga$Molecular.Subtype == \"GS\" | dftcga$Molecular.Subtype == \"CIN\"))"
   ],
   "outputs": [],
   "metadata": {}
  },
  {
   "cell_type": "markdown",
   "source": [
    "## TCGA cases (training)"
   ],
   "metadata": {}
  },
  {
   "cell_type": "code",
   "execution_count": null,
   "source": [
    "dftcga_train <- subset(dftcga, dftcga$Group == 0)\n",
    "summary(dftcga_train)"
   ],
   "outputs": [],
   "metadata": {}
  },
  {
   "cell_type": "code",
   "execution_count": null,
   "source": [
    "summary(subset(dftcga_train,\n",
    "        dftcga_train$Molecular.Subtype == \"GS\" | dftcga_train$Molecular.Subtype == \"CIN\"))"
   ],
   "outputs": [],
   "metadata": {}
  },
  {
   "cell_type": "markdown",
   "source": [
    "## TCGA cases (test)"
   ],
   "metadata": {}
  },
  {
   "cell_type": "code",
   "execution_count": null,
   "source": [
    "dftcga_test <- subset(dftcga, dftcga$Group != 0)\n",
    "summary(dftcga_test)"
   ],
   "outputs": [],
   "metadata": {}
  },
  {
   "cell_type": "code",
   "execution_count": null,
   "source": [
    "summary(subset(dftcga_test,\n",
    "        dftcga_test$Molecular.Subtype == \"GS\" | dftcga_test$Molecular.Subtype == \"CIN\"))"
   ],
   "outputs": [],
   "metadata": {}
  }
 ],
 "metadata": {
  "orig_nbformat": 4,
  "language_info": {
   "name": "R",
   "codemirror_mode": "r",
   "pygments_lexer": "r",
   "mimetype": "text/x-r-source",
   "file_extension": ".r",
   "version": "4.1.1"
  },
  "kernelspec": {
   "name": "ir",
   "display_name": "R",
   "language": "R"
  }
 },
 "nbformat": 4,
 "nbformat_minor": 2
}