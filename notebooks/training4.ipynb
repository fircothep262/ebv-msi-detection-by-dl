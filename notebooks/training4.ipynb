{
 "cells": [
  {
   "cell_type": "markdown",
   "source": [
    "Train using all four groups.  \n",
    "EBV vs MSI vs other, with data augmentation and a part of TCGA cases."
   ],
   "metadata": {}
  },
  {
   "cell_type": "code",
   "execution_count": null,
   "source": [
    "from src.training import create_dataset, exec_training\n",
    "\n",
    "training_dataset, validation_dataset = create_dataset(\n",
    "        base_model='VGG16',\n",
    "        training_data_dir=r'data\\tfrecords\\task1_with_aug',\n",
    "        training_groups=[1, 2, 3, 4, 9],  # 9:TCGA data\n",
    "        validation_data_dir=None,\n",
    "        validation_group=-1)\n",
    "\n",
    "exec_training(\n",
    "        classification_pattern=1,\n",
    "        base_model='VGG16',\n",
    "        training_dataset=training_dataset,\n",
    "        validation_dataset=None,\n",
    "        id='task1_with_aug_tcga_vgg16_all'\n",
    "        )"
   ],
   "outputs": [],
   "metadata": {}
  },
  {
   "cell_type": "markdown",
   "source": [
    "### Patient level prediction using trained model with early stopping at 188 \"epochs\""
   ],
   "metadata": {}
  },
  {
   "cell_type": "code",
   "execution_count": null,
   "source": [
    "from src.prediction import tcga_patient_level_prediction\n",
    "\n",
    "tcga_patient_level_prediction(\n",
    "    classification_pattern=1,\n",
    "    base_model='VGG16',\n",
    "    model_file=r'models\\training4\\task1_with_aug_tcga_vgg16_188.h5',\n",
    "    tcga_test_image_dir=r'data\\patches\\tcga_test',\n",
    "    test_groups=[1, 2, 3, 4]\n",
    ")"
   ],
   "outputs": [],
   "metadata": {}
  }
 ],
 "metadata": {
  "orig_nbformat": 4,
  "language_info": {
   "name": "python",
   "version": "3.8.10",
   "mimetype": "text/x-python",
   "codemirror_mode": {
    "name": "ipython",
    "version": 3
   },
   "pygments_lexer": "ipython3",
   "nbconvert_exporter": "python",
   "file_extension": ".py"
  },
  "kernelspec": {
   "name": "python3",
   "display_name": "Python 3.8.10 64-bit ('venv': venv)"
  },
  "interpreter": {
   "hash": "b2af6807d7e6f80af6b99b398a07edb7db22d043dac48ea45f1a934629db9cda"
  }
 },
 "nbformat": 4,
 "nbformat_minor": 2
}