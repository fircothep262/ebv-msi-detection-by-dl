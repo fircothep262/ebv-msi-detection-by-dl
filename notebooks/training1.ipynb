{
 "cells": [
  {
   "cell_type": "markdown",
   "source": [
    "# Compare the performance of different CNNs.\r\n",
    "EBV+MSI vs other, with data augmentation by random color change and blurring.  \r\n",
    "Learning curves are available in results\\learning_curve\\training1."
   ],
   "metadata": {}
  },
  {
   "cell_type": "markdown",
   "source": [
    "## 4-fold cross validation (VGG16-based model)"
   ],
   "metadata": {}
  },
  {
   "cell_type": "code",
   "execution_count": null,
   "source": [
    "from src.training import cross_validation\n",
    "\n",
    "cross_validation(\n",
    "        classification_pattern=2,\n",
    "        base_model='VGG16',\n",
    "        training_data_dir=r'data\\tfrecords\\task2_with_aug',\n",
    "        validation_data_dir=r'data\\tfrecords\\task2_no_aug',\n",
    "        id='task2_with_aug_vgg16'\n",
    "        )"
   ],
   "outputs": [],
   "metadata": {}
  },
  {
   "cell_type": "markdown",
   "source": [
    "## 4-fold cross validation (VGG19-based model)"
   ],
   "metadata": {}
  },
  {
   "cell_type": "code",
   "execution_count": null,
   "source": [
    "from src.training import cross_validation\n",
    "\n",
    "cross_validation(\n",
    "        classification_pattern=2,\n",
    "        base_model='VGG19',\n",
    "        training_data_dir=r'data\\tfrecords\\task2_with_aug',\n",
    "        validation_data_dir=r'data\\tfrecords\\task2_no_aug',\n",
    "        id='task2_with_aug_vgg19'\n",
    "        )"
   ],
   "outputs": [],
   "metadata": {}
  },
  {
   "cell_type": "markdown",
   "source": [
    "## 4-fold cross validation (ResNet50-based model)"
   ],
   "metadata": {}
  },
  {
   "cell_type": "code",
   "execution_count": null,
   "source": [
    "from src.training import cross_validation\n",
    "\n",
    "cross_validation(\n",
    "        classification_pattern=2,\n",
    "        base_model='ResNet50',\n",
    "        training_data_dir=r'data\\tfrecords\\task2_with_aug',\n",
    "        validation_data_dir=r'data\\tfrecords\\task2_no_aug',\n",
    "        id='task2_with_aug_resnet50'\n",
    "        )"
   ],
   "outputs": [],
   "metadata": {}
  },
  {
   "cell_type": "markdown",
   "source": [
    "## 4-fold cross validation (EfficientNetB0-based model)"
   ],
   "metadata": {}
  },
  {
   "cell_type": "code",
   "execution_count": null,
   "source": [
    "from src.training import cross_validation\n",
    "\n",
    "cross_validation(\n",
    "        classification_pattern=2,\n",
    "        base_model='EfficientNet',\n",
    "        training_data_dir=r'data\\tfrecords\\task2_with_aug',\n",
    "        validation_data_dir=r'data\\tfrecords\\task2_no_aug',\n",
    "        id='task2_with_aug_efficientnet'\n",
    "        )"
   ],
   "outputs": [],
   "metadata": {}
  }
 ],
 "metadata": {
  "orig_nbformat": 4,
  "language_info": {
   "name": "python",
   "version": "3.8.10",
   "mimetype": "text/x-python",
   "codemirror_mode": {
    "name": "ipython",
    "version": 3
   },
   "pygments_lexer": "ipython3",
   "nbconvert_exporter": "python",
   "file_extension": ".py"
  },
  "kernelspec": {
   "name": "python3",
   "display_name": "Python 3.8.10 64-bit ('venv': venv)"
  },
  "interpreter": {
   "hash": "b2af6807d7e6f80af6b99b398a07edb7db22d043dac48ea45f1a934629db9cda"
  }
 },
 "nbformat": 4,
 "nbformat_minor": 2
}