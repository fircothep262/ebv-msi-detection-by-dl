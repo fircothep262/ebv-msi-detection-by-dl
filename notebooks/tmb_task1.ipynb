{
 "cells": [
  {
   "cell_type": "markdown",
   "source": [
    "# Assess the correlation between prediction and tumor mutational burden (EBV vs MSI vs other)"
   ],
   "metadata": {}
  },
  {
   "cell_type": "code",
   "execution_count": null,
   "source": [
    "library(openxlsx)\n",
    "\n",
    "df <- read.xlsx(\"../results/prediction/training4/tcga.xlsx\", sheet = \"with aug with tcga\")\n",
    "df$Molecular.Subtype <- factor(df$Molecular.Subtype)\n",
    "\n",
    "df2 <- data.frame(df$EBV, df$MSI, df$other)\n",
    "predicted_label3 <- apply(df2, 1, which.max)\n",
    "predicted_label3 <- factor(ifelse(predicted_label3 == 1, \"EBV\", ifelse(predicted_label3 == 2,\n",
    "        \"MSI\", \"other\")))\n",
    "df <- cbind(df, predicted_label3)\n",
    "print('*** all ***')\n",
    "summary(df)\n",
    "\n",
    "dfebv <- subset(df, df$predicted_label3 == \"EBV\")\n",
    "dfmsi <- subset(df, df$predicted_label3 == \"MSI\")\n",
    "dfother <- subset(df, df$predicted_label3 == \"other\")\n",
    "print('*** prediction: ebv ***')\n",
    "summary(dfebv)\n",
    "print('*** prediction: msi ***')\n",
    "summary(dfmsi)\n",
    "print('*** prediction: other ***')\n",
    "summary(dfother)"
   ],
   "outputs": [],
   "metadata": {}
  },
  {
   "cell_type": "markdown",
   "source": [
    "## TMB and prediction"
   ],
   "metadata": {}
  },
  {
   "cell_type": "code",
   "execution_count": null,
   "source": [
    "boxplot(dfebv$Tumor.Mutational.Burden, dfmsi$Tumor.Mutational.Burden,\n",
    "        dfother$Tumor.Mutational.Burden, names = c(\"EBV\", \"MSI\", \"other\"))\n",
    "\n",
    "tiff(filename=\"../results/tmb/prediction.tiff\", width=5, height=5, units=\"in\", res=500)\n",
    "boxplot(dfebv$Tumor.Mutational.Burden, dfmsi$Tumor.Mutational.Burden,\n",
    "        dfother$Tumor.Mutational.Burden, names = c(\"EBV\", \"MSI\", \"other\"))\n",
    "dev.off()"
   ],
   "outputs": [],
   "metadata": {}
  },
  {
   "cell_type": "code",
   "execution_count": null,
   "source": [
    "var.test(dfebv$Tumor.Mutational.Burden, dfmsi$Tumor.Mutational.Burden, conf.level=0.95)\n",
    "var.test(dfother$Tumor.Mutational.Burden, dfmsi$Tumor.Mutational.Burden, conf.level=0.95)"
   ],
   "outputs": [],
   "metadata": {}
  },
  {
   "cell_type": "code",
   "execution_count": null,
   "source": [
    "t.test(dfebv$Tumor.Mutational.Burden, dfmsi$Tumor.Mutational.Burden, var.equal = FALSE)\n",
    "t.test(dfother$Tumor.Mutational.Burden, dfmsi$Tumor.Mutational.Burden, var.equal = FALSE)"
   ],
   "outputs": [],
   "metadata": {}
  },
  {
   "cell_type": "code",
   "execution_count": null,
   "source": [
    "dfmsi_truepositive <- subset(df, df$Molecular.Subtype == \"MSI\" & df$predicted_label3 == \"MSI\")\n",
    "dfmsi_falsenegative <- subset(df, df$Molecular.Subtype == \"MSI\" & df$predicted_label3 != \"MSI\")\n",
    "boxplot(dfmsi_truepositive$Tumor.Mutational.Burden, dfmsi_falsenegative$Tumor.Mutational.Burden)"
   ],
   "outputs": [],
   "metadata": {}
  },
  {
   "cell_type": "code",
   "execution_count": null,
   "source": [
    "var.test(dfmsi_truepositive$Tumor.Mutational.Burden, dfmsi_falsenegative$Tumor.Mutational.Burden,\n",
    "        conf.level=0.95)"
   ],
   "outputs": [],
   "metadata": {}
  },
  {
   "cell_type": "code",
   "execution_count": null,
   "source": [
    "t.test(dfmsi_truepositive$Tumor.Mutational.Burden, dfmsi_falsenegative$Tumor.Mutational.Burden,\n",
    "        var.equal = TRUE)"
   ],
   "outputs": [],
   "metadata": {}
  },
  {
   "cell_type": "markdown",
   "source": [
    "## TMB and ground truth"
   ],
   "metadata": {}
  },
  {
   "cell_type": "code",
   "execution_count": null,
   "source": [
    "boxplot(subset(df, df$Molecular.Subtype == \"EBV\")$Tumor.Mutational.Burden,\n",
    "        subset(df, df$Molecular.Subtype == \"MSI\")$Tumor.Mutational.Burden,\n",
    "        subset(df, df$Molecular.Subtype == \"GS\"\n",
    "        | df$Molecular.Subtype == \"CIN\")$Tumor.Mutational.Burden,\n",
    "        names = c(\"EBV\", \"MSI\", \"other\"))\n",
    "\n",
    "tiff(filename=\"../results/tmb/ground_trugh.tiff\", width=5, height=5, units=\"in\", res=500)\n",
    "boxplot(subset(df, df$Molecular.Subtype == \"EBV\")$Tumor.Mutational.Burden,\n",
    "        subset(df, df$Molecular.Subtype == \"MSI\")$Tumor.Mutational.Burden,\n",
    "        subset(df, df$Molecular.Subtype == \"GS\"\n",
    "        | df$Molecular.Subtype == \"CIN\")$Tumor.Mutational.Burden,\n",
    "        names = c(\"EBV\", \"MSI\", \"other\"))\n",
    "\n",
    "dev.off()"
   ],
   "outputs": [],
   "metadata": {}
  },
  {
   "cell_type": "code",
   "execution_count": null,
   "source": [
    "var.test(subset(df, df$Molecular.Subtype == \"EBV\")$Tumor.Mutational.Burden,\n",
    "        subset(df, df$Molecular.Subtype == \"MSI\")$Tumor.Mutational.Burden, conf.level=0.95)\n",
    "var.test(subset(df, df$Molecular.Subtype == \"MSI\")$Tumor.Mutational.Burden,\n",
    "        subset(df, df$Molecular.Subtype == \"GS\"\n",
    "        | df$Molecular.Subtype == \"CIN\")$Tumor.Mutational.Burden, conf.level=0.95)"
   ],
   "outputs": [],
   "metadata": {}
  },
  {
   "cell_type": "code",
   "execution_count": null,
   "source": [
    "t.test(subset(df, df$Molecular.Subtype == \"EBV\")$Tumor.Mutational.Burden,\n",
    "        subset(df, df$Molecular.Subtype == \"MSI\")$Tumor.Mutational.Burden, var.equal = FALSE)\n",
    "t.test(subset(df, df$Molecular.Subtype == \"MSI\")$Tumor.Mutational.Burden,\n",
    "        subset(df, df$Molecular.Subtype == \"GS\"\n",
    "        | df$Molecular.Subtype == \"CIN\")$Tumor.Mutational.Burden, var.equal = FALSE)"
   ],
   "outputs": [],
   "metadata": {}
  }
 ],
 "metadata": {
  "orig_nbformat": 4,
  "language_info": {
   "name": "R",
   "codemirror_mode": "r",
   "pygments_lexer": "r",
   "mimetype": "text/x-r-source",
   "file_extension": ".r",
   "version": "4.1.1"
  },
  "kernelspec": {
   "name": "ir",
   "display_name": "R",
   "language": "R"
  }
 },
 "nbformat": 4,
 "nbformat_minor": 2
}